{
 "cells": [
  {
   "cell_type": "code",
   "execution_count": 235,
   "metadata": {},
   "outputs": [
    {
     "name": "stdout",
     "output_type": "stream",
     "text": [
      "load_dataset_train successfully\n",
      "Fill_black_attack_with_Benign successfully\n",
      "renove_nan_columns successfully\n"
     ]
    }
   ],
   "source": [
    "# Imports, settings and first dataset view\n",
    "import pandas as pd\n",
    "import seaborn as sns\n",
    "import numpy as np\n",
    "import json\n",
    "from sklearn.feature_extraction.text import CountVectorizer, HashingVectorizer\n",
    "from sklearn.preprocessing import LabelEncoder\n",
    "from sklearn.model_selection import train_test_split\n",
    "from sklearn.ensemble import RandomForestClassifier\n",
    "from sklearn.metrics import confusion_matrix, classification_report\n",
    "from collections import Counter\n",
    "from sklearn.neighbors import KNeighborsClassifier\n",
    "from sklearn.tree import DecisionTreeClassifier\n",
    "from sklearn.naive_bayes import GaussianNB\n",
    "from sklearn import svm\n",
    "from sklearn.linear_model import SGDClassifier\n",
    "from sklearn.linear_model import LogisticRegression\n",
    "\n",
    "\n",
    "\n",
    "def load_dataset_train(data_num,test_type):\n",
    "    # Set pandas to show all columns when you print a dataframe\n",
    "    pd.set_option('display.max_columns', None)\n",
    "\n",
    "    # Global setting here you choose the dataset number and classification type for the model\n",
    "    dataset_number = data_num  # Options are [1, 2, 3, 4]\n",
    "    test_type = test_type  # Options are ['label', 'attack_type']\n",
    "\n",
    "    # Read the json and read it to a pandas dataframe object, you can change these settings\n",
    "    # with open(f'./dataset_{str(dataset_number)}.json') as file:\n",
    "    with open(f'./dataset_{str(dataset_number)}_train.json') as file:\n",
    "        raw_ds = json.load(file)\n",
    "    df = pd.json_normalize(raw_ds, max_level=2)\n",
    "\n",
    "    # Shoe the first five lines of the dataframe to see if everything was read accordingly\n",
    "    # print(df.head())\n",
    "    print(\"load_dataset_train successfully\")\n",
    "    return df\n",
    "\n",
    "\n",
    "def Fill_black_attack_with_Benign(df):\n",
    "    # Fill the black attack tag lines with \"Benign\" string\n",
    "    df['request.Attack_Tag'] = df['request.Attack_Tag'].fillna('Benign')\n",
    "    df['attack_type'] = df['request.Attack_Tag']\n",
    "    print(\"Fill_black_attack_with_Benign successfully\")\n",
    "    return df\n",
    "\n",
    "\n",
    "# This function will be used in the lambda below to iterate over the label columns\n",
    "# You can use this snippet to run your own lambda on any data with the apply() method\n",
    "def categorize(row):\n",
    "    if row['request.Attack_Tag'] == 'Benign':\n",
    "        return 'Benign'\n",
    "    return 'Malware'\n",
    "\n",
    "\n",
    "# Remove all NAN columns or replace with desired string\n",
    "# This loop iterates over all of the column names which are all NaN\n",
    "def renove_nan_columns(df):\n",
    "    for column in df.columns[df.isna().any()].tolist():\n",
    "        # df.drop(column, axis=1, inplace=True)\n",
    "        df[column] = df[column].fillna('None')\n",
    "    \n",
    "    print(\"renove_nan_columns successfully\")\n",
    "    return df\n",
    "\n",
    "  \n",
    "\n",
    "dataset_number = 4  # Options are [1, 2, 3, 4]\n",
    "test_type = 'label'  # Options are ['label', 'attack_type'] -- ch to at \n",
    "df = load_dataset_train(dataset_number,test_type)\n",
    "df = Fill_black_attack_with_Benign(df)\n",
    "df[test_type] = df.apply(lambda row: categorize(row), axis=1)\n",
    "# After finishing the arrangements we delete the irrelevant column\n",
    "df.drop('request.Attack_Tag', axis=1, inplace=True)\n",
    "df = renove_nan_columns(df)"
   ]
  },
  {
   "cell_type": "code",
   "execution_count": 236,
   "metadata": {},
   "outputs": [],
   "source": [
    "# Setting features for further feature extraction by choosing columns\n",
    "# Some will be \"simply\" encoded via label encoding and others with HashingVectorizer\n",
    "\n",
    "# On these headers we will run a \"simple\" BOW\n",
    "SIMPLE_HEADERS = [\n",
    "         \"request.headers.User-Agent\",\n",
    "        \"request.headers.Accept-Encoding\",\n",
    "        \"request.headers.Accept\",\n",
    "        \"request.headers.Connection\",\n",
    "        \"request.headers.Sec-Ch-Ua-Platform\",\n",
    "        \"request.headers.Sec-Ch-Ua-Mobile\",\n",
    "        \"request.headers.Accept-Language\",\n",
    "        \"request.headers.Sec-Fetch-Site\",\n",
    "        \"request.headers.Sec-Fetch-Mode\",\n",
    "        \"request.headers.Cache-Control\",\n",
    "        \"request.headers.Sec-Fetch-User\",\n",
    "        \"request.headers.Sec-Fetch-Dest\",\n",
    "        \"request.headers.Set-Cookie\",\n",
    "        \"request.method\",\n",
    "        \"request.url\",\n",
    "        \"response.status\",\n",
    "        \"response.headers.Content-Type\",\n",
    "        \"response.status_code\",\n",
    "        \"response.body\",\n",
    "        \"response.headers.Location\",\n",
    "        \"request.headers.Cookie\",\n",
    "        \"request.headers.Content-Length\",\n",
    "        \"response.headers.Set-Cookie\",\n",
    "        \"request.headers.Upgrade-Insecure-Requests\",\n",
    "        \"attack_type\",\n",
    "        \"label\",\n",
    "                ]\n",
    "\n",
    "# On these headers we will run HashingVectorizer\n",
    "COMPLEX_HEADERS = [ \n",
    "       \n",
    "         ]\n"
   ]
  },
  {
   "cell_type": "code",
   "execution_count": 237,
   "metadata": {},
   "outputs": [
    {
     "name": "stdout",
     "output_type": "stream",
     "text": [
      "request.headers.Host <class 'str'>\n",
      "request.headers.User-Agent <class 'str'>\n",
      "request.headers.Accept-Encoding <class 'str'>\n",
      "request.headers.Accept <class 'str'>\n",
      "request.headers.Connection <class 'str'>\n",
      "request.headers.Sec-Ch-Ua-Platform <class 'str'>\n",
      "request.headers.Sec-Ch-Ua-Mobile <class 'str'>\n",
      "request.headers.Accept-Language <class 'str'>\n",
      "request.headers.Sec-Fetch-Site <class 'str'>\n",
      "request.headers.Sec-Fetch-Mode <class 'str'>\n",
      "request.headers.Cache-Control <class 'str'>\n",
      "request.headers.Sec-Fetch-User <class 'str'>\n",
      "request.headers.Sec-Fetch-Dest <class 'str'>\n",
      "request.headers.Set-Cookie <class 'str'>\n",
      "request.headers.Date <class 'str'>\n",
      "request.method <class 'str'>\n",
      "request.url <class 'str'>\n",
      "request.body <class 'str'>\n",
      "response.status <class 'str'>\n",
      "response.headers.Content-Type <class 'str'>\n",
      "response.headers.Content-Length <class 'str'>\n",
      "response.status_code <class 'str'>\n",
      "response.body <class 'str'>\n",
      "response.headers.Location <class 'str'>\n",
      "request.headers.Cookie <class 'str'>\n",
      "request.headers.Content-Length <class 'str'>\n",
      "response.headers.Set-Cookie <class 'str'>\n",
      "request.headers.Upgrade-Insecure-Requests <class 'str'>\n",
      "attack_type <class 'str'>\n"
     ]
    },
    {
     "data": {
      "text/plain": [
       "request.headers.Host                         object\n",
       "request.headers.User-Agent                   object\n",
       "request.headers.Accept-Encoding              object\n",
       "request.headers.Accept                       object\n",
       "request.headers.Connection                   object\n",
       "request.headers.Sec-Ch-Ua-Platform           object\n",
       "request.headers.Sec-Ch-Ua-Mobile             object\n",
       "request.headers.Accept-Language              object\n",
       "request.headers.Sec-Fetch-Site               object\n",
       "request.headers.Sec-Fetch-Mode               object\n",
       "request.headers.Cache-Control                object\n",
       "request.headers.Sec-Fetch-User               object\n",
       "request.headers.Sec-Fetch-Dest               object\n",
       "request.headers.Set-Cookie                   object\n",
       "request.headers.Date                         object\n",
       "request.method                               object\n",
       "request.url                                  object\n",
       "request.body                                 object\n",
       "response.status                              object\n",
       "response.headers.Content-Type                object\n",
       "response.headers.Content-Length              object\n",
       "response.status_code                          int64\n",
       "response.body                                object\n",
       "response.headers.Location                    object\n",
       "request.headers.Cookie                       object\n",
       "request.headers.Content-Length               object\n",
       "response.headers.Set-Cookie                  object\n",
       "request.headers.Upgrade-Insecure-Requests    object\n",
       "attack_type                                  object\n",
       "dtype: object"
      ]
     },
     "execution_count": 237,
     "metadata": {},
     "output_type": "execute_result"
    }
   ],
   "source": [
    "df.columns\n",
    "for i in range(len(df.columns)):\n",
    "    print(df.columns[i] , type(df.columns[i])) \n",
    "\n",
    "df.dtypes"
   ]
  },
  {
   "cell_type": "code",
   "execution_count": 238,
   "metadata": {},
   "outputs": [],
   "source": [
    "# This is our main preprocessing function that will iterate over all of the chosen \n",
    "# columns and run some feature extraction models\n",
    "def vectorize_df(df):\n",
    "    le = LabelEncoder()\n",
    "    h_vec = HashingVectorizer(n_features=4)\n",
    "\n",
    "    # Run LabelEncoder on the chosen features\n",
    "    for column in SIMPLE_HEADERS:\n",
    "        if column in df.columns:\n",
    "            df[column] = le.fit_transform(df[column])\n",
    "    \n",
    "    # Run HashingVectorizer on the chosen features\n",
    "    # for column in COMPLEX_HEADERS: \n",
    "    #     newHVec = h_vec.fit_transform(df[column])\n",
    "    #     df[column] = newHVec.todense()\n",
    "\n",
    "    # # Remove some columns that may be needed.. (Or not, you decide)\n",
    "    # for column in COLUMNS_TO_REMOVE: \n",
    "    #     df.drop(column, axis=1, inplace=True)\n",
    "    return df\n",
    "\n",
    "df = vectorize_df(df)"
   ]
  },
  {
   "cell_type": "code",
   "execution_count": 239,
   "metadata": {},
   "outputs": [
    {
     "name": "stdout",
     "output_type": "stream",
     "text": [
      "['request.headers.User-Agent', 'request.headers.Accept-Encoding', 'request.headers.Accept', 'request.headers.Connection', 'request.headers.Sec-Ch-Ua-Platform', 'request.headers.Sec-Ch-Ua-Mobile', 'request.headers.Accept-Language', 'request.headers.Sec-Fetch-Site', 'request.headers.Sec-Fetch-Mode', 'request.headers.Cache-Control', 'request.headers.Sec-Fetch-User', 'request.headers.Sec-Fetch-Dest', 'request.headers.Set-Cookie', 'request.method', 'request.url', 'response.status', 'response.headers.Content-Type', 'response.status_code', 'response.body', 'response.headers.Location', 'request.headers.Cookie', 'request.headers.Content-Length', 'response.headers.Set-Cookie', 'request.headers.Upgrade-Insecure-Requests']\n",
      "feature:  request.headers.Accept   0.0   2\n",
      "feature:  request.headers.Connection   0.0   3\n",
      "feature:  request.method   0.004107895668706188   13\n",
      "feature:  response.headers.Set-Cookie   0.004131075251850576   22\n",
      "feature:  request.headers.Cache-Control   0.006043404299938548   9\n",
      "feature:  request.headers.Content-Length   0.012964439364492628   21\n",
      "feature:  response.status_code   0.013063382390259327   17\n",
      "feature:  request.headers.Upgrade-Insecure-Requests   0.01313425914581105   23\n",
      "feature:  request.headers.Sec-Ch-Ua-Mobile   0.01314705797715981   5\n",
      "feature:  request.headers.Accept-Language   0.013511790878549474   6\n",
      "feature:  request.headers.Sec-Fetch-Site   0.014319738913975836   7\n",
      "feature:  response.status   0.015979606439089942   15\n",
      "feature:  request.headers.Sec-Fetch-Dest   0.01934126729586954   11\n",
      "feature:  request.headers.Set-Cookie   0.02094689695746053   12\n",
      "feature:  response.headers.Content-Type   0.022130429627034914   16\n",
      "feature:  request.headers.Sec-Fetch-Mode   0.025071588362482744   8\n",
      "feature:  request.headers.Sec-Fetch-User   0.03160883439347527   10\n",
      "feature:  response.body   0.032622734498563434   18\n",
      "feature:  request.headers.Cookie   0.03294120364976681   20\n",
      "feature:  request.headers.User-Agent   0.04319400723328747   0\n",
      "feature:  response.headers.Location   0.04622296758965894   19\n",
      "feature:  request.headers.Accept-Encoding   0.06937728069393256   1\n",
      "feature:  request.url   0.09581216563946351   14\n",
      "feature:  request.headers.Sec-Ch-Ua-Platform   0.45032797372917077   4\n",
      "24\n",
      "19\n",
      "['request.headers.Content-Length', 'response.status_code', 'request.headers.Upgrade-Insecure-Requests', 'request.headers.Sec-Ch-Ua-Mobile', 'request.headers.Accept-Language', 'request.headers.Sec-Fetch-Site', 'response.status', 'request.headers.Sec-Fetch-Dest', 'request.headers.Set-Cookie', 'response.headers.Content-Type', 'request.headers.Sec-Fetch-Mode', 'request.headers.Sec-Fetch-User', 'response.body', 'request.headers.Cookie', 'request.headers.User-Agent', 'response.headers.Location', 'request.headers.Accept-Encoding', 'request.url', 'request.headers.Sec-Ch-Ua-Platform']\n"
     ]
    }
   ],
   "source": [
    "def feature_selection(df,test_type,feature_list):\n",
    "  X = df[feature_list].to_numpy()\n",
    "  # print(X)\n",
    "  # This column is the desired prediction we will train our model on\n",
    "  y = np.stack(df[test_type])\n",
    "  # We split the dataset to train and test according to the required ration\n",
    "  # Do not change the test_size -> you can change anything else\n",
    "  X_train, X_test, y_train, y_test = train_test_split(X, y, test_size=0.1765, random_state=50, stratify=y)\n",
    "  clf = RandomForestClassifier(n_estimators=100)\n",
    "  clf.fit(X_train,y_train)\n",
    "  sort = clf.feature_importances_.argsort()\n",
    "  updated_feature_list = []\n",
    "  for i in sort:\n",
    "    # we change the value according to outcome\n",
    "    if clf.feature_importances_[i] > 0.01:\n",
    "        updated_feature_list.append(feature_list[i])\n",
    "        # print the feature with his effect \\ importances \n",
    "    print(\"feature: \" , feature_list[i],\" \",clf.feature_importances_[i],\" \",i)\n",
    "  print(len(feature_list))\n",
    "  print(len(updated_feature_list))\n",
    "  return updated_feature_list\n",
    "\n",
    "features_list = df.columns.to_list()\n",
    "if 'label' in features_list:\n",
    "  features_list.remove('label')\n",
    "if 'attack_type' in features_list:\n",
    "  features_list.remove('attack_type')\n",
    "if 'request.body' in features_list:\n",
    "  features_list.remove('request.body')\n",
    "if 'request.body' in features_list:\n",
    "  features_list.remove('request.body')\n",
    "if 'response.headers.Content-Length' in features_list:\n",
    "  features_list.remove('response.headers.Content-Length')\n",
    "if 'request.headers.Date' in features_list:\n",
    "  features_list.remove('request.headers.Date')\n",
    "if 'request.headers.Host' in features_list:\n",
    "  features_list.remove('request.headers.Host')\n",
    "print(features_list)\n",
    "updated_feature_list = feature_selection(df,test_type, features_list)\n",
    "print(updated_feature_list)\n"
   ]
  },
  {
   "cell_type": "code",
   "execution_count": 193,
   "metadata": {},
   "outputs": [],
   "source": [
    "# updated_feature_list.remove('label')\n",
    "# updated_feature_list.remove('attack_type')"
   ]
  },
  {
   "cell_type": "code",
   "execution_count": 240,
   "metadata": {},
   "outputs": [
    {
     "name": "stdout",
     "output_type": "stream",
     "text": [
      "features to remove\n",
      "request.headers.Accept\n",
      "request.headers.Connection\n",
      "request.headers.Cache-Control\n",
      "request.method\n",
      "response.headers.Set-Cookie\n"
     ]
    }
   ],
   "source": [
    "print(\"features to remove\")\n",
    "for f in features_list:\n",
    "    if f not in updated_feature_list:\n",
    "        print(f)"
   ]
  },
  {
   "cell_type": "code",
   "execution_count": 241,
   "metadata": {},
   "outputs": [],
   "source": [
    "\n",
    "COLUMNS_TO_REMOVE = ['request.body',\n",
    "                    'response.headers.Content-Length',\n",
    "                    'request.headers.Date',\n",
    "                    'request.headers.Host',\n",
    "                    'request.headers.Accept',\n",
    "                    'request.headers.Connection',\n",
    "                    'request.headers.Sec-Fetch-User',\n",
    "                    'request.method',\n",
    "                    'response.headers.Set-Cookie']"
   ]
  },
  {
   "cell_type": "code",
   "execution_count": 242,
   "metadata": {},
   "outputs": [
    {
     "name": "stdout",
     "output_type": "stream",
     "text": [
      "columns removed successfully\n"
     ]
    },
    {
     "data": {
      "text/plain": [
       "request.headers.User-Agent                   int32\n",
       "request.headers.Accept-Encoding              int32\n",
       "request.headers.Sec-Ch-Ua-Platform           int32\n",
       "request.headers.Sec-Ch-Ua-Mobile             int32\n",
       "request.headers.Accept-Language              int32\n",
       "request.headers.Sec-Fetch-Site               int32\n",
       "request.headers.Sec-Fetch-Mode               int32\n",
       "request.headers.Cache-Control                int32\n",
       "request.headers.Sec-Fetch-Dest               int32\n",
       "request.headers.Set-Cookie                   int32\n",
       "request.url                                  int32\n",
       "response.status                              int32\n",
       "response.headers.Content-Type                int32\n",
       "response.status_code                         int64\n",
       "response.body                                int32\n",
       "response.headers.Location                    int32\n",
       "request.headers.Cookie                       int32\n",
       "request.headers.Content-Length               int32\n",
       "request.headers.Upgrade-Insecure-Requests    int32\n",
       "attack_type                                  int32\n",
       "dtype: object"
      ]
     },
     "execution_count": 242,
     "metadata": {},
     "output_type": "execute_result"
    }
   ],
   "source": [
    " # # Remove some columns that may be needed.. (Or not, you decide)\n",
    "def remove_columns(df,columns_to_remmove):    \n",
    "    for column in columns_to_remmove: \n",
    "        if column in df.columns:\n",
    "            df.drop(column, axis=1, inplace=True)\n",
    "    print(\"columns removed successfully\")\n",
    "    return df\n",
    "df = remove_columns(df,COLUMNS_TO_REMOVE)\n",
    "# print(df.columns)\n",
    "df.dtypes"
   ]
  },
  {
   "cell_type": "code",
   "execution_count": 243,
   "metadata": {},
   "outputs": [],
   "source": [
    "if 'request.headers.Sec-Fetch-User' in updated_feature_list:\n",
    "  features_list.remove('request.headers.Sec-Fetch-User')\n",
    "\n"
   ]
  },
  {
   "attachments": {},
   "cell_type": "markdown",
   "metadata": {},
   "source": [
    "Train test split"
   ]
  },
  {
   "cell_type": "code",
   "execution_count": 244,
   "metadata": {},
   "outputs": [
    {
     "name": "stdout",
     "output_type": "stream",
     "text": [
      "(150508, 18) (150508,)\n",
      "(32259, 18) (32259,)\n"
     ]
    },
    {
     "data": {
      "text/plain": [
       "Counter({0: 143297, 1: 39470})"
      ]
     },
     "execution_count": 244,
     "metadata": {},
     "output_type": "execute_result"
    }
   ],
   "source": [
    "# Data train and test split preparations. Here we will insert our feature list and label list.\n",
    "# Afterwards the data will be trained and fitted on the amazing XGBoost model\n",
    "# X_Train and y_Train will be used for training\n",
    "# X_test and y_test.T will be used for over fitting checking and overall score testing\n",
    "\n",
    "# We convert the feature list to a numpy array, this is required for the model fitting\n",
    "updated_feature_list_new = []\n",
    "for i in updated_feature_list:\n",
    "    if i in df.columns:\n",
    "        updated_feature_list_new.append(i)\n",
    "X = df[updated_feature_list_new].to_numpy()\n",
    "\n",
    "\n",
    "# This column is the desired prediction we will train our model on\n",
    "y = np.stack(df[test_type])\n",
    "\n",
    "# We split the dataset to train and test according to the required ration\n",
    "# Do not change the test_size -> you can change anything else\n",
    "X_train, X_test, y_train, y_test = train_test_split(X, y, test_size=0.1765, random_state=42, stratify=y)\n",
    "\n",
    "# We print the resulted datasets and count the difference \n",
    "print(X_train.shape, y_train.shape)\n",
    "print(X_test.shape, y_test.shape)\n",
    "counter = Counter(y)\n",
    "counter"
   ]
  },
  {
   "attachments": {},
   "cell_type": "markdown",
   "metadata": {},
   "source": [
    "in order to change from val to x_test see the code below"
   ]
  },
  {
   "cell_type": "code",
   "execution_count": 245,
   "metadata": {},
   "outputs": [],
   "source": [
    "# This is our main preprocessing function that will iterate over all of the chosen \n",
    "# columns and run some feature extraction models\n",
    "def vectorize_df_val(df_val,updated_feature_list):\n",
    "    le = LabelEncoder()\n",
    "    h_vec = HashingVectorizer(n_features=4)\n",
    "\n",
    "    # Run LabelEncoder on the chosen features\n",
    "    # for column in updated_feature_list: \n",
    "    #     if column in df.columns:\n",
    "    #         df[column] = le.fit_transform(df[column])\n",
    "\n",
    "    for column in df.columns:\n",
    "        if column in df_val.columns:\n",
    "            df_val[column] = le.fit_transform(df_val[column])\n",
    "\n",
    "        # try:\n",
    "        #     newHVec = h_vec.fit_transform(df[column])\n",
    "        #     df[column] = newHVec.todense()\n",
    "        # except:\n",
    "        #     df[column] = le.fit_transform(df[column])\n",
    "    \n",
    "    # Run HashingVectorizer on the chosen features\n",
    "    # for column in COMPLEX_HEADERS: \n",
    "    #     newHVec = h_vec.fit_transform(df[column])\n",
    "    #     df[column] = newHVec.todense()\n",
    "\n",
    "    # Remove some columns that may be needed.. (Or not, you decide)\n",
    "    df_val = remove_columns(df_val,COLUMNS_TO_REMOVE)\n",
    "    return df_val"
   ]
  },
  {
   "cell_type": "code",
   "execution_count": 246,
   "metadata": {},
   "outputs": [],
   "source": [
    "SIMPLE_HEADERS_VAL = [\n",
    " 'request.headers.Host'                         \n",
    ",'request.headers.User-Agent'                   \n",
    ",'request.headers.Accept-Encoding'              \n",
    ",'request.headers.Accept'                       \n",
    ",'request.headers.Connection'                   \n",
    ",'request.headers.Sec-Ch-Ua-Mobile'             \n",
    ",'request.headers.Accept-Language'              \n",
    ",'request.headers.Sec-Fetch-Site'               \n",
    ",'request.headers.Sec-Fetch-Mode'               \n",
    ",'request.headers.Cache-Control'                \n",
    ",'request.headers.Sec-Fetch-User'               \n",
    ",'request.headers.Sec-Fetch-Dest'               \n",
    ",'request.headers.Set-Cookie'                   \n",
    ",'request.headers.Date'                         \n",
    ",'request.method'                               \n",
    ",'request.url'                                  \n",
    ",'request.body'                                 \n",
    ",'response.status'                              \n",
    ",'response.headers.Content-Type'                \n",
    ",'response.headers.Content-Length'              \n",
    ",'response.status_code'                         \n",
    ",'response.body'                                \n",
    ",'request.headers.Sec-Ch-Ua-Platform'           \n",
    ",'request.headers.Content-Length'               \n",
    ",'response.headers.Location'                    \n",
    ",'request.headers.Cookie'                       \n",
    ",'response.headers.Set-Cookie'                  \n",
    ",'request.headers.Upgrade-Insecure-Requests' ]   "
   ]
  },
  {
   "cell_type": "code",
   "execution_count": 247,
   "metadata": {},
   "outputs": [
    {
     "name": "stdout",
     "output_type": "stream",
     "text": [
      "columns removed successfully\n",
      "columns removed successfully\n",
      "request.headers.User-Agent                   int32\n",
      "request.headers.Accept-Encoding              int32\n",
      "request.headers.Sec-Ch-Ua-Mobile             int32\n",
      "request.headers.Accept-Language              int32\n",
      "request.headers.Sec-Fetch-Site               int32\n",
      "request.headers.Sec-Fetch-Mode               int32\n",
      "request.headers.Cache-Control                int32\n",
      "request.headers.Sec-Fetch-Dest               int32\n",
      "request.headers.Set-Cookie                   int32\n",
      "request.url                                  int32\n",
      "response.status                              int32\n",
      "response.headers.Content-Type                int32\n",
      "response.status_code                         int64\n",
      "response.body                                int32\n",
      "request.headers.Sec-Ch-Ua-Platform           int32\n",
      "request.headers.Content-Length               int32\n",
      "response.headers.Location                    int32\n",
      "request.headers.Cookie                       int32\n",
      "request.headers.Upgrade-Insecure-Requests    int32\n",
      "dtype: object\n"
     ]
    },
    {
     "ename": "KeyError",
     "evalue": "\"['request.headers.Sec-Fetch-User'] not in index\"",
     "output_type": "error",
     "traceback": [
      "\u001b[1;31m---------------------------------------------------------------------------\u001b[0m",
      "\u001b[1;31mKeyError\u001b[0m                                  Traceback (most recent call last)",
      "Cell \u001b[1;32mIn[247], line 13\u001b[0m\n\u001b[0;32m     10\u001b[0m test_df_val \u001b[39m=\u001b[39m vectorize_df_val(test_df_val,SIMPLE_HEADERS_VAL)\n\u001b[0;32m     11\u001b[0m \u001b[39mprint\u001b[39m(test_df_val\u001b[39m.\u001b[39mdtypes)\n\u001b[1;32m---> 13\u001b[0m Val_Test \u001b[39m=\u001b[39m test_df_val[updated_feature_list]\u001b[39m.\u001b[39mto_numpy()\n\u001b[0;32m     15\u001b[0m \u001b[39m# if you want to test the val dont mark this row below \u001b[39;00m\n\u001b[0;32m     16\u001b[0m \u001b[39m# X_test = Val_Test\u001b[39;00m\n",
      "File \u001b[1;32m~\\AppData\\Local\\Packages\\PythonSoftwareFoundation.Python.3.8_qbz5n2kfra8p0\\LocalCache\\local-packages\\Python38\\site-packages\\pandas\\core\\frame.py:3811\u001b[0m, in \u001b[0;36mDataFrame.__getitem__\u001b[1;34m(self, key)\u001b[0m\n\u001b[0;32m   3809\u001b[0m     \u001b[39mif\u001b[39;00m is_iterator(key):\n\u001b[0;32m   3810\u001b[0m         key \u001b[39m=\u001b[39m \u001b[39mlist\u001b[39m(key)\n\u001b[1;32m-> 3811\u001b[0m     indexer \u001b[39m=\u001b[39m \u001b[39mself\u001b[39;49m\u001b[39m.\u001b[39;49mcolumns\u001b[39m.\u001b[39;49m_get_indexer_strict(key, \u001b[39m\"\u001b[39;49m\u001b[39mcolumns\u001b[39;49m\u001b[39m\"\u001b[39;49m)[\u001b[39m1\u001b[39m]\n\u001b[0;32m   3813\u001b[0m \u001b[39m# take() does not accept boolean indexers\u001b[39;00m\n\u001b[0;32m   3814\u001b[0m \u001b[39mif\u001b[39;00m \u001b[39mgetattr\u001b[39m(indexer, \u001b[39m\"\u001b[39m\u001b[39mdtype\u001b[39m\u001b[39m\"\u001b[39m, \u001b[39mNone\u001b[39;00m) \u001b[39m==\u001b[39m \u001b[39mbool\u001b[39m:\n",
      "File \u001b[1;32m~\\AppData\\Local\\Packages\\PythonSoftwareFoundation.Python.3.8_qbz5n2kfra8p0\\LocalCache\\local-packages\\Python38\\site-packages\\pandas\\core\\indexes\\base.py:6113\u001b[0m, in \u001b[0;36mIndex._get_indexer_strict\u001b[1;34m(self, key, axis_name)\u001b[0m\n\u001b[0;32m   6110\u001b[0m \u001b[39melse\u001b[39;00m:\n\u001b[0;32m   6111\u001b[0m     keyarr, indexer, new_indexer \u001b[39m=\u001b[39m \u001b[39mself\u001b[39m\u001b[39m.\u001b[39m_reindex_non_unique(keyarr)\n\u001b[1;32m-> 6113\u001b[0m \u001b[39mself\u001b[39;49m\u001b[39m.\u001b[39;49m_raise_if_missing(keyarr, indexer, axis_name)\n\u001b[0;32m   6115\u001b[0m keyarr \u001b[39m=\u001b[39m \u001b[39mself\u001b[39m\u001b[39m.\u001b[39mtake(indexer)\n\u001b[0;32m   6116\u001b[0m \u001b[39mif\u001b[39;00m \u001b[39misinstance\u001b[39m(key, Index):\n\u001b[0;32m   6117\u001b[0m     \u001b[39m# GH 42790 - Preserve name from an Index\u001b[39;00m\n",
      "File \u001b[1;32m~\\AppData\\Local\\Packages\\PythonSoftwareFoundation.Python.3.8_qbz5n2kfra8p0\\LocalCache\\local-packages\\Python38\\site-packages\\pandas\\core\\indexes\\base.py:6176\u001b[0m, in \u001b[0;36mIndex._raise_if_missing\u001b[1;34m(self, key, indexer, axis_name)\u001b[0m\n\u001b[0;32m   6173\u001b[0m     \u001b[39mraise\u001b[39;00m \u001b[39mKeyError\u001b[39;00m(\u001b[39mf\u001b[39m\u001b[39m\"\u001b[39m\u001b[39mNone of [\u001b[39m\u001b[39m{\u001b[39;00mkey\u001b[39m}\u001b[39;00m\u001b[39m] are in the [\u001b[39m\u001b[39m{\u001b[39;00maxis_name\u001b[39m}\u001b[39;00m\u001b[39m]\u001b[39m\u001b[39m\"\u001b[39m)\n\u001b[0;32m   6175\u001b[0m not_found \u001b[39m=\u001b[39m \u001b[39mlist\u001b[39m(ensure_index(key)[missing_mask\u001b[39m.\u001b[39mnonzero()[\u001b[39m0\u001b[39m]]\u001b[39m.\u001b[39munique())\n\u001b[1;32m-> 6176\u001b[0m \u001b[39mraise\u001b[39;00m \u001b[39mKeyError\u001b[39;00m(\u001b[39mf\u001b[39m\u001b[39m\"\u001b[39m\u001b[39m{\u001b[39;00mnot_found\u001b[39m}\u001b[39;00m\u001b[39m not in index\u001b[39m\u001b[39m\"\u001b[39m)\n",
      "\u001b[1;31mKeyError\u001b[0m: \"['request.headers.Sec-Fetch-User'] not in index\""
     ]
    }
   ],
   "source": [
    "with open(f'./dataset_{str(dataset_number)}_val.json') as file:\n",
    "    raw_ds = json.load(file)\n",
    "test_df_val = pd.json_normalize(raw_ds, max_level=2)\n",
    "\n",
    "for column in test_df_val.columns[test_df_val.isna().any()].tolist():\n",
    "     test_df_val[column] = test_df_val[column].fillna('None')\n",
    "\n",
    "# print(test_df_val.dtypes)\n",
    "test_df_val = remove_columns(test_df_val,COLUMNS_TO_REMOVE)\n",
    "test_df_val = vectorize_df_val(test_df_val,SIMPLE_HEADERS_VAL)\n",
    "print(test_df_val.dtypes)\n",
    "\n",
    "Val_Test = test_df_val[updated_feature_list].to_numpy()\n",
    "\n",
    "# if you want to test the val dont mark this row below \n",
    "# X_test = Val_Test\n"
   ]
  },
  {
   "attachments": {},
   "cell_type": "markdown",
   "metadata": {},
   "source": [
    "algo "
   ]
  },
  {
   "cell_type": "code",
   "execution_count": 248,
   "metadata": {},
   "outputs": [],
   "source": [
    "def random_forest_classifier(X_train, y_train,X_test):\n",
    "    # We choose our model of choice and set it's hyper parameters you can change anything\n",
    "    clf = RandomForestClassifier(n_estimators=100)\n",
    "    # Train Model\n",
    "    clf.fit(X_train, y_train)\n",
    "    # print(clf.predict())\n",
    "    return clf.predict(X_test)\n",
    "\n",
    "def KNeighbors_classifier(X_train, y_train,X_test):\n",
    "    model = KNeighborsClassifier(n_neighbors=7)\n",
    "    model.fit(X_train, y_train)\n",
    "    return model.predict(X_test)\n",
    "\n",
    "def decision_Tree_classifier(X_train, y_train,X_test):\n",
    "    model = DecisionTreeClassifier()\n",
    "    model.fit(X_train, y_train)\n",
    "    return model.predict(X_test)\n",
    " \n",
    "def gaussianNB(X_train, y_train,X_test):\n",
    "    model = GaussianNB()\n",
    "    model.fit(X_train, y_train)\n",
    "    return model.predict(X_test)\n",
    "\n",
    "def svm_LinearSVC(X_train, y_train,X_test):\n",
    "    model = svm.LinearSVC(random_state=800,max_iter=400)\n",
    "    model.fit(X_train, y_train)\n",
    "    return model.predict(X_test)\n",
    "\n",
    "def SGD_classifier(X_train, y_train,X_test):\n",
    "    model = SGDClassifier()\n",
    "    model.fit(X_train, y_train)\n",
    "    return model.predict(X_test)\n",
    "\n",
    "def logistic_regression(X_train, y_train,X_test):\n",
    "    model = LogisticRegression(max_iter=300)\n",
    "    model.fit(X_train, y_train)\n",
    "    return model.predict(X_test) "
   ]
  },
  {
   "cell_type": "code",
   "execution_count": 249,
   "metadata": {},
   "outputs": [],
   "source": [
    "randomForestClassifier_predictions = random_forest_classifier(X_train,y_train,X_test)\n"
   ]
  },
  {
   "cell_type": "code",
   "execution_count": 250,
   "metadata": {},
   "outputs": [],
   "source": [
    "KNeighborsClassifier_prediction = KNeighbors_classifier(X_train,y_train,X_test)\n"
   ]
  },
  {
   "cell_type": "code",
   "execution_count": 251,
   "metadata": {},
   "outputs": [],
   "source": [
    "decisionTreeClassifier_perdiction = decision_Tree_classifier(X_train,y_train,X_test)\n"
   ]
  },
  {
   "cell_type": "code",
   "execution_count": 252,
   "metadata": {},
   "outputs": [],
   "source": [
    "gaussianNB_prediction = gaussianNB(X_train,y_train,X_test)\n"
   ]
  },
  {
   "cell_type": "code",
   "execution_count": 253,
   "metadata": {},
   "outputs": [
    {
     "name": "stderr",
     "output_type": "stream",
     "text": [
      "C:\\Users\\david\\AppData\\Local\\Packages\\PythonSoftwareFoundation.Python.3.8_qbz5n2kfra8p0\\LocalCache\\local-packages\\Python38\\site-packages\\sklearn\\svm\\_base.py:1225: ConvergenceWarning: Liblinear failed to converge, increase the number of iterations.\n",
      "  warnings.warn(\n"
     ]
    }
   ],
   "source": [
    "linearSVC_prediction = svm_LinearSVC(X_train,y_train,X_test)\n"
   ]
  },
  {
   "cell_type": "code",
   "execution_count": 254,
   "metadata": {},
   "outputs": [],
   "source": [
    "SGDClassifier_prediction = SGD_classifier(X_train,y_train,X_test)\n"
   ]
  },
  {
   "cell_type": "code",
   "execution_count": 255,
   "metadata": {},
   "outputs": [
    {
     "name": "stderr",
     "output_type": "stream",
     "text": [
      "C:\\Users\\david\\AppData\\Local\\Packages\\PythonSoftwareFoundation.Python.3.8_qbz5n2kfra8p0\\LocalCache\\local-packages\\Python38\\site-packages\\sklearn\\linear_model\\_logistic.py:444: ConvergenceWarning: lbfgs failed to converge (status=1):\n",
      "STOP: TOTAL NO. of ITERATIONS REACHED LIMIT.\n",
      "\n",
      "Increase the number of iterations (max_iter) or scale the data as shown in:\n",
      "    https://scikit-learn.org/stable/modules/preprocessing.html\n",
      "Please also refer to the documentation for alternative solver options:\n",
      "    https://scikit-learn.org/stable/modules/linear_model.html#logistic-regression\n",
      "  n_iter_i = _check_optimize_result(\n"
     ]
    }
   ],
   "source": [
    "logisticRegression_prediction = logistic_regression(X_train,y_train,X_test)\n"
   ]
  },
  {
   "cell_type": "code",
   "execution_count": 256,
   "metadata": {},
   "outputs": [
    {
     "name": "stdout",
     "output_type": "stream",
     "text": [
      "[0 1 0 0]\n"
     ]
    }
   ],
   "source": [
    "from sklearn.ensemble import RandomForestClassifier\n",
    "\n",
    "# Create a RandomForestClassifier object\n",
    "clf = RandomForestClassifier()\n",
    "\n",
    "# Train the classifier on some data\n",
    "xx_train = [[0, 1], [1, 1], [0, 0], [1, 0]]\n",
    "yy_train = [0, 1, 0, 1]\n",
    "clf.fit(xx_train, yy_train)\n",
    "\n",
    "# Use the classifier to make predictions on some new data\n",
    "xx_test = [[0, 0], [1, 0], [0, 1], [0, 0]]\n",
    "predictions = clf.predict(xx_test)\n",
    "\n",
    "print(predictions)  # prints [0, 1, 0, 1]"
   ]
  },
  {
   "attachments": {},
   "cell_type": "markdown",
   "metadata": {},
   "source": [
    "prediction"
   ]
  },
  {
   "cell_type": "code",
   "execution_count": 257,
   "metadata": {},
   "outputs": [],
   "source": [
    "\n",
    "# prediction = []\n",
    "\n",
    "\n",
    "\n",
    "# for  i in range(len(randomForestClassifier_predictions)):\n",
    "#     tmpans = str()\n",
    "#     count = 0 \n",
    "#     Benign = \"0\"\n",
    "\n",
    "#     if str(randomForestClassifier_predictions[i]) == Benign:\n",
    "#         # count += 12.5\n",
    "#         # count += 14.1\n",
    "#         count += 18.02 \n",
    "#     if str(logisticRegression_prediction[i]) == Benign:\n",
    "#         # count += 12.5\n",
    "#         # count += 13.175\n",
    "#         count += 15.175\n",
    "#     if str(KNeighborsClassifier_prediction[i]) == Benign:\n",
    "#         # count += 12.5\n",
    "#         # count += 13.485\n",
    "#         count += 15.485\n",
    "#     if str(decisionTreeClassifier_perdiction[i]) == Benign:\n",
    "#         # count += 12.5\n",
    "#         # count += 13.64\n",
    "#         count += 15.64\n",
    "#     # if str(baggingClassifier_predidtion[i]) == \"Benign\":\n",
    "#     #     # count += 12.5\n",
    "#     #     # count += 9.92\n",
    "#     #     count += 8.92\n",
    "#     if str(gaussianNB_prediction[i]) == Benign:\n",
    "#         # count += 12.5\n",
    "#         # count += 12.09\n",
    "#         count += 12.09\n",
    "#     if str(linearSVC_prediction[i]) == Benign:\n",
    "#         # count += 12.5\n",
    "#         # count += 11.78\n",
    "#         count += 11.78\n",
    "\n",
    "#     if str(SGDClassifier_prediction[i]) == Benign:\n",
    "#         # count += 12.5\n",
    "#         # count += 11.625\n",
    "#         count += 11.625\n",
    "\n",
    "#     if count >= 85:\n",
    "#         tmpans = 0\n",
    "#     else:\n",
    "#         tmpans = 1\n",
    "    \n",
    "#     prediction.append(tmpans)\n",
    "\n",
    "\n",
    "# # clf_end_report = classification_report(y_test, prediction, digits=5)\n",
    "\n",
    "# # print(clf_end_report)\n",
    "\n",
    "# # Save your preditions\n",
    "# enc = LabelEncoder()\n",
    "# np.savetxt(f'./dataset_{str(dataset_number)}_{test_type}_result.txt', enc.fit_transform(prediction), fmt='%2d')\n"
   ]
  },
  {
   "cell_type": "code",
   "execution_count": 258,
   "metadata": {},
   "outputs": [
    {
     "name": "stdout",
     "output_type": "stream",
     "text": [
      "[(0, 99.815)]\n",
      "[(1, 64.32), (0, 35.495)]\n",
      "[(0, 50.67), (1, 49.144999999999996)]\n",
      "[(0, 84.64), (1, 15.175)]\n",
      "[(0, 99.815)]\n",
      "[(0, 99.815)]\n",
      "[(0, 99.815)]\n",
      "[(0, 99.815)]\n",
      "[(0, 99.815)]\n",
      "[(0, 99.815)]\n",
      "[(0, 99.815)]\n",
      "[(0, 99.815)]\n",
      "[(0, 99.815)]\n",
      "[(0, 99.815)]\n",
      "[(0, 99.815)]\n",
      "[(1, 64.32), (0, 35.495)]\n",
      "[(0, 50.98), (1, 48.835)]\n",
      "[(0, 84.33), (1, 15.485)]\n",
      "[(0, 99.815)]\n",
      "[(0, 99.815)]\n",
      "              precision    recall  f1-score   support\n",
      "\n",
      "           0    0.98681   0.99992   0.99332     25292\n",
      "           1    0.99970   0.95149   0.97500      6967\n",
      "\n",
      "    accuracy                        0.98946     32259\n",
      "   macro avg    0.99325   0.97570   0.98416     32259\n",
      "weighted avg    0.98959   0.98946   0.98936     32259\n",
      "\n"
     ]
    },
    {
     "data": {
      "image/png": "[encoded data removed]",
      "text/plain": [
       "<Figure size 640x480 with 2 Axes>"
      ]
     },
     "metadata": {},
     "output_type": "display_data"
    }
   ],
   "source": [
    "prediction = []\n",
    "def sort_dictionary_by_value(d):\n",
    "    # sort the dictionary by value and return a list of tuples (key, value)\n",
    "    return sorted(d.items(), key=lambda x: x[1], reverse=True)\n",
    "\n",
    "for  i in range(len(randomForestClassifier_predictions)):\n",
    "    predictionNew = {}\n",
    "    tmpans = str()\n",
    "    count = 0 \n",
    "    Benign = \"0\"\n",
    "\n",
    "    if randomForestClassifier_predictions[i] in predictionNew:\n",
    "        predictionNew[randomForestClassifier_predictions[i]] += 18.02\n",
    "    else:\n",
    "        predictionNew[randomForestClassifier_predictions[i]] = 18.02\n",
    "  \n",
    "      \n",
    "    if logisticRegression_prediction[i] in predictionNew:\n",
    "        predictionNew[logisticRegression_prediction[i]] += 15.175\n",
    "    else:\n",
    "        predictionNew[logisticRegression_prediction[i]] = 15.175\n",
    "   \n",
    "\n",
    "    if KNeighborsClassifier_prediction[i] in predictionNew:\n",
    "        predictionNew[KNeighborsClassifier_prediction[i]] += 15.485\n",
    "    else:\n",
    "        predictionNew[KNeighborsClassifier_prediction[i]] = 15.485\n",
    "\n",
    "\n",
    "    if decisionTreeClassifier_perdiction[i] in predictionNew:\n",
    "        predictionNew[decisionTreeClassifier_perdiction[i]] += 15.64\n",
    "    else:\n",
    "        predictionNew[decisionTreeClassifier_perdiction[i]] = 15.64\n",
    "\n",
    "\n",
    "    if gaussianNB_prediction[i] in predictionNew:\n",
    "        predictionNew[gaussianNB_prediction[i]] += 12.09\n",
    "    else:\n",
    "        predictionNew[gaussianNB_prediction[i]] = 12.09\n",
    "\n",
    "\n",
    "    if linearSVC_prediction[i] in predictionNew:\n",
    "        predictionNew[linearSVC_prediction[i]] += 11.78\n",
    "    else:\n",
    "        predictionNew[linearSVC_prediction[i]] = 11.78\n",
    "\n",
    "\n",
    "    if SGDClassifier_prediction[i] in predictionNew:\n",
    "        predictionNew[SGDClassifier_prediction[i]] += 11.625\n",
    "    else:\n",
    "        predictionNew[SGDClassifier_prediction[i]] = 11.625\n",
    "\n",
    "    d = sort_dictionary_by_value(predictionNew) \n",
    "    if i < 20 :\n",
    "        print(d)\n",
    "    prediction.append(d[0][0])\n",
    "    \n",
    "# clf_end_report = classification_report(true_labels, prediction, digits=5)\n",
    "cf_matrix = confusion_matrix(y_test, randomForestClassifier_predictions)\n",
    "clf_report = classification_report(y_test, randomForestClassifier_predictions, digits=5)\n",
    "heatmap = sns.heatmap(cf_matrix, annot=True, cmap='Blues', fmt='g', \n",
    "                      xticklabels=np.unique(y_test), \n",
    "                      yticklabels=np.unique(y_test)) \n",
    "# The heatmap is cool but this is the most important result\n",
    "print(clf_report)\n",
    "# enc = LabelEncoder()\n",
    "# np.savetxt(f'./dataset_{str(dataset_number)}_{test_type}_result.txt', enc.fit_transform(prediction), fmt='%2d')"
   ]
  }
 ],
 "metadata": {
  "kernelspec": {
   "display_name": "Python 3",
   "language": "python",
   "name": "python3"
  },
  "language_info": {
   "codemirror_mode": {
    "name": "ipython",
    "version": 3
   },
   "file_extension": ".py",
   "mimetype": "text/x-python",
   "name": "python",
   "nbconvert_exporter": "python",
   "pygments_lexer": "ipython3",
   "version": "3.8.10"
  },
  "orig_nbformat": 4,
  "vscode": {
   "interpreter": {
    "hash": "ecaf67c2eed83bbe4201b93bdaacc4b80383b39fafae7a462812c913200862b6"
   }
  }
 },
 "nbformat": 4,
 "nbformat_minor": 2
}
